{
 "cells": [
  {
   "cell_type": "code",
   "execution_count": null,
   "id": "e8e994b0-600f-4956-8bc6-b8e56dae6e73",
   "metadata": {},
   "outputs": [],
   "source": []
  }
 ],
 "metadata": {
  "kernelspec": {
   "display_name": "",
   "name": ""
  },
  "language_info": {
   "name": ""
  }
 },
 "nbformat": 4,
 "nbformat_minor": 5
}
